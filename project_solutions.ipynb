{
  "nbformat": 4,
  "nbformat_minor": 0,
  "metadata": {
    "colab": {
      "name": "adult_income.ipynb",
      "provenance": [],
      "collapsed_sections": [
        "kKAfRSAe3y62",
        "A2_d2r3Zbbn2"
      ],
      "toc_visible": true
    },
    "kernelspec": {
      "name": "python374jvsc74a57bd0aee8b7b246df8f9039afb4144a1f6fd8d2ca17a180786b69acc140d282b71a49",
      "display_name": "Python 3.7.4 64-bit"
    },
    "language_info": {
      "name": "python",
      "version": "3.7.4"
    }
  },
  "cells": [
    {
      "cell_type": "markdown",
      "metadata": {
        "id": "3hKUFKS79cap"
      },
      "source": [
        "# Importing and Cleaning Dataset"
      ]
    },
    {
      "cell_type": "markdown",
      "metadata": {
        "id": "z-gEKQd20Jln"
      },
      "source": [
        "**Load Data**"
      ]
    },
    {
      "cell_type": "code",
      "metadata": {
        "id": "zsFnUseIz8n2",
        "colab": {
          "base_uri": "https://localhost:8080/",
          "height": 343
        },
        "outputId": "7fa28b73-ea1b-4feb-c6bd-20c103435ca1"
      },
      "source": [
        "import pandas as pd\n",
        "\n",
        "def load_data():\n",
        "\n",
        "    csv_path = \"adult.csv\"\n",
        "    return pd.read_csv(csv_path)\n",
        "\n",
        "data = load_data()\n",
        "data.head()"
      ],
      "execution_count": 1,
      "outputs": [
        {
          "output_type": "execute_result",
          "data": {
            "text/plain": [
              "   age  workclass  fnlwgt     education  educational-num      marital-status  \\\n",
              "0   25    Private  226802          11th                7       Never-married   \n",
              "1   38    Private   89814       HS-grad                9  Married-civ-spouse   \n",
              "2   28  Local-gov  336951    Assoc-acdm               12  Married-civ-spouse   \n",
              "3   44    Private  160323  Some-college               10  Married-civ-spouse   \n",
              "4   18          ?  103497  Some-college               10       Never-married   \n",
              "\n",
              "          occupation relationship   race  gender  capital-gain  capital-loss  \\\n",
              "0  Machine-op-inspct    Own-child  Black    Male             0             0   \n",
              "1    Farming-fishing      Husband  White    Male             0             0   \n",
              "2    Protective-serv      Husband  White    Male             0             0   \n",
              "3  Machine-op-inspct      Husband  Black    Male          7688             0   \n",
              "4                  ?    Own-child  White  Female             0             0   \n",
              "\n",
              "   hours-per-week native-country income  \n",
              "0              40  United-States  <=50K  \n",
              "1              50  United-States  <=50K  \n",
              "2              40  United-States   >50K  \n",
              "3              40  United-States   >50K  \n",
              "4              30  United-States  <=50K  "
            ],
            "text/html": "<div>\n<style scoped>\n    .dataframe tbody tr th:only-of-type {\n        vertical-align: middle;\n    }\n\n    .dataframe tbody tr th {\n        vertical-align: top;\n    }\n\n    .dataframe thead th {\n        text-align: right;\n    }\n</style>\n<table border=\"1\" class=\"dataframe\">\n  <thead>\n    <tr style=\"text-align: right;\">\n      <th></th>\n      <th>age</th>\n      <th>workclass</th>\n      <th>fnlwgt</th>\n      <th>education</th>\n      <th>educational-num</th>\n      <th>marital-status</th>\n      <th>occupation</th>\n      <th>relationship</th>\n      <th>race</th>\n      <th>gender</th>\n      <th>capital-gain</th>\n      <th>capital-loss</th>\n      <th>hours-per-week</th>\n      <th>native-country</th>\n      <th>income</th>\n    </tr>\n  </thead>\n  <tbody>\n    <tr>\n      <th>0</th>\n      <td>25</td>\n      <td>Private</td>\n      <td>226802</td>\n      <td>11th</td>\n      <td>7</td>\n      <td>Never-married</td>\n      <td>Machine-op-inspct</td>\n      <td>Own-child</td>\n      <td>Black</td>\n      <td>Male</td>\n      <td>0</td>\n      <td>0</td>\n      <td>40</td>\n      <td>United-States</td>\n      <td>&lt;=50K</td>\n    </tr>\n    <tr>\n      <th>1</th>\n      <td>38</td>\n      <td>Private</td>\n      <td>89814</td>\n      <td>HS-grad</td>\n      <td>9</td>\n      <td>Married-civ-spouse</td>\n      <td>Farming-fishing</td>\n      <td>Husband</td>\n      <td>White</td>\n      <td>Male</td>\n      <td>0</td>\n      <td>0</td>\n      <td>50</td>\n      <td>United-States</td>\n      <td>&lt;=50K</td>\n    </tr>\n    <tr>\n      <th>2</th>\n      <td>28</td>\n      <td>Local-gov</td>\n      <td>336951</td>\n      <td>Assoc-acdm</td>\n      <td>12</td>\n      <td>Married-civ-spouse</td>\n      <td>Protective-serv</td>\n      <td>Husband</td>\n      <td>White</td>\n      <td>Male</td>\n      <td>0</td>\n      <td>0</td>\n      <td>40</td>\n      <td>United-States</td>\n      <td>&gt;50K</td>\n    </tr>\n    <tr>\n      <th>3</th>\n      <td>44</td>\n      <td>Private</td>\n      <td>160323</td>\n      <td>Some-college</td>\n      <td>10</td>\n      <td>Married-civ-spouse</td>\n      <td>Machine-op-inspct</td>\n      <td>Husband</td>\n      <td>Black</td>\n      <td>Male</td>\n      <td>7688</td>\n      <td>0</td>\n      <td>40</td>\n      <td>United-States</td>\n      <td>&gt;50K</td>\n    </tr>\n    <tr>\n      <th>4</th>\n      <td>18</td>\n      <td>?</td>\n      <td>103497</td>\n      <td>Some-college</td>\n      <td>10</td>\n      <td>Never-married</td>\n      <td>?</td>\n      <td>Own-child</td>\n      <td>White</td>\n      <td>Female</td>\n      <td>0</td>\n      <td>0</td>\n      <td>30</td>\n      <td>United-States</td>\n      <td>&lt;=50K</td>\n    </tr>\n  </tbody>\n</table>\n</div>"
          },
          "metadata": {},
          "execution_count": 1
        }
      ]
    },
    {
      "cell_type": "markdown",
      "metadata": {
        "id": "snOD_Z01IV2r"
      },
      "source": [
        "Initial analysis to show the percentage of women earning above $50K/year versus the numver of men"
      ]
    },
    {
      "cell_type": "code",
      "metadata": {
        "id": "O0KJNJ19Dd88"
      },
      "source": [
        "import numpy as np\n",
        "\n",
        "data = data.replace('?',np.nan)\n",
        "\n",
        "male_set = data[(data['gender'] == 'Male')].copy()\n",
        "female_set = data[(data['gender'] == 'Female')].copy()"
      ],
      "execution_count": 2,
      "outputs": []
    },
    {
      "cell_type": "code",
      "metadata": {
        "colab": {
          "base_uri": "https://localhost:8080/"
        },
        "id": "TbGzZI3X0Zbv",
        "outputId": "3e3035a1-f05c-4c02-fbe6-2da7ac1947c8"
      },
      "source": [
        "print(f\"male {len(data[(data['gender'] == 'Male') & (data['income'] == '>50K')]) / len(data[(data['gender'] == 'Male')])}\")\n",
        "print(f\"female {len(data[(data['gender'] == 'Female') & (data['income'] == '>50K')]) / len(data[(data['gender'] == 'Female')])}\")"
      ],
      "execution_count": 3,
      "outputs": [
        {
          "output_type": "stream",
          "name": "stdout",
          "text": [
            "male 0.3037672281776417\nfemale 0.10925148221343874\n"
          ]
        }
      ]
    },
    {
      "cell_type": "markdown",
      "metadata": {
        "id": "EmSEwIpg0NRp"
      },
      "source": [
        "**Cleaning Data**"
      ]
    },
    {
      "cell_type": "code",
      "metadata": {
        "colab": {
          "base_uri": "https://localhost:8080/",
          "height": 343
        },
        "id": "-7O9ieF34Ia9",
        "outputId": "28fdfe83-2553-480c-eafe-3106865d741c"
      },
      "source": [
        "data.head()"
      ],
      "execution_count": 4,
      "outputs": [
        {
          "output_type": "execute_result",
          "data": {
            "text/plain": [
              "   age  workclass  fnlwgt     education  educational-num      marital-status  \\\n",
              "0   25    Private  226802          11th                7       Never-married   \n",
              "1   38    Private   89814       HS-grad                9  Married-civ-spouse   \n",
              "2   28  Local-gov  336951    Assoc-acdm               12  Married-civ-spouse   \n",
              "3   44    Private  160323  Some-college               10  Married-civ-spouse   \n",
              "4   18        NaN  103497  Some-college               10       Never-married   \n",
              "\n",
              "          occupation relationship   race  gender  capital-gain  capital-loss  \\\n",
              "0  Machine-op-inspct    Own-child  Black    Male             0             0   \n",
              "1    Farming-fishing      Husband  White    Male             0             0   \n",
              "2    Protective-serv      Husband  White    Male             0             0   \n",
              "3  Machine-op-inspct      Husband  Black    Male          7688             0   \n",
              "4                NaN    Own-child  White  Female             0             0   \n",
              "\n",
              "   hours-per-week native-country income  \n",
              "0              40  United-States  <=50K  \n",
              "1              50  United-States  <=50K  \n",
              "2              40  United-States   >50K  \n",
              "3              40  United-States   >50K  \n",
              "4              30  United-States  <=50K  "
            ],
            "text/html": "<div>\n<style scoped>\n    .dataframe tbody tr th:only-of-type {\n        vertical-align: middle;\n    }\n\n    .dataframe tbody tr th {\n        vertical-align: top;\n    }\n\n    .dataframe thead th {\n        text-align: right;\n    }\n</style>\n<table border=\"1\" class=\"dataframe\">\n  <thead>\n    <tr style=\"text-align: right;\">\n      <th></th>\n      <th>age</th>\n      <th>workclass</th>\n      <th>fnlwgt</th>\n      <th>education</th>\n      <th>educational-num</th>\n      <th>marital-status</th>\n      <th>occupation</th>\n      <th>relationship</th>\n      <th>race</th>\n      <th>gender</th>\n      <th>capital-gain</th>\n      <th>capital-loss</th>\n      <th>hours-per-week</th>\n      <th>native-country</th>\n      <th>income</th>\n    </tr>\n  </thead>\n  <tbody>\n    <tr>\n      <th>0</th>\n      <td>25</td>\n      <td>Private</td>\n      <td>226802</td>\n      <td>11th</td>\n      <td>7</td>\n      <td>Never-married</td>\n      <td>Machine-op-inspct</td>\n      <td>Own-child</td>\n      <td>Black</td>\n      <td>Male</td>\n      <td>0</td>\n      <td>0</td>\n      <td>40</td>\n      <td>United-States</td>\n      <td>&lt;=50K</td>\n    </tr>\n    <tr>\n      <th>1</th>\n      <td>38</td>\n      <td>Private</td>\n      <td>89814</td>\n      <td>HS-grad</td>\n      <td>9</td>\n      <td>Married-civ-spouse</td>\n      <td>Farming-fishing</td>\n      <td>Husband</td>\n      <td>White</td>\n      <td>Male</td>\n      <td>0</td>\n      <td>0</td>\n      <td>50</td>\n      <td>United-States</td>\n      <td>&lt;=50K</td>\n    </tr>\n    <tr>\n      <th>2</th>\n      <td>28</td>\n      <td>Local-gov</td>\n      <td>336951</td>\n      <td>Assoc-acdm</td>\n      <td>12</td>\n      <td>Married-civ-spouse</td>\n      <td>Protective-serv</td>\n      <td>Husband</td>\n      <td>White</td>\n      <td>Male</td>\n      <td>0</td>\n      <td>0</td>\n      <td>40</td>\n      <td>United-States</td>\n      <td>&gt;50K</td>\n    </tr>\n    <tr>\n      <th>3</th>\n      <td>44</td>\n      <td>Private</td>\n      <td>160323</td>\n      <td>Some-college</td>\n      <td>10</td>\n      <td>Married-civ-spouse</td>\n      <td>Machine-op-inspct</td>\n      <td>Husband</td>\n      <td>Black</td>\n      <td>Male</td>\n      <td>7688</td>\n      <td>0</td>\n      <td>40</td>\n      <td>United-States</td>\n      <td>&gt;50K</td>\n    </tr>\n    <tr>\n      <th>4</th>\n      <td>18</td>\n      <td>NaN</td>\n      <td>103497</td>\n      <td>Some-college</td>\n      <td>10</td>\n      <td>Never-married</td>\n      <td>NaN</td>\n      <td>Own-child</td>\n      <td>White</td>\n      <td>Female</td>\n      <td>0</td>\n      <td>0</td>\n      <td>30</td>\n      <td>United-States</td>\n      <td>&lt;=50K</td>\n    </tr>\n  </tbody>\n</table>\n</div>"
          },
          "metadata": {},
          "execution_count": 4
        }
      ]
    },
    {
      "cell_type": "code",
      "metadata": {
        "colab": {
          "base_uri": "https://localhost:8080/",
          "height": 343
        },
        "id": "yfsRWDEO5xuZ",
        "outputId": "593a4eae-ce3e-4bc0-87e9-4b81642db63f"
      },
      "source": [
        "def clean_data(data):\n",
        "\n",
        "  data = data.replace('?',np.nan)\n",
        "\n",
        "  data = data.join(pd.get_dummies(data['workclass'], prefix='workclass'))\n",
        "  data = data.drop(['workclass'], axis=1)\n",
        "\n",
        "  data = data.drop(['education'], axis=1) #data already encoded by educational_num\n",
        "\n",
        "  data['marital-status'] = data['marital-status'].replace(dict.fromkeys(['Never-married'], 'unmarried'))\n",
        "  data['marital-status'] = data['marital-status'].replace(dict.fromkeys(['Married-civ-spouse', 'Married-AF-spouse'], 'married'))\n",
        "  data['marital-status'] = data['marital-status'].replace(dict.fromkeys(['Separated', 'Married-spouse-absent'], 'separated'))\n",
        "  data['marital-status'] = data['marital-status'].replace(dict.fromkeys(['Divorced'], 'divorced'))\n",
        "  data['marital-status'] = data['marital-status'].replace(dict.fromkeys(['Widowed'], 'widowed'))\n",
        "  data = data.join(pd.get_dummies(data['marital-status'], prefix='marital_status'))\n",
        "  data = data.drop(['marital-status'], axis=1)\n",
        "\n",
        "  data = data.join(pd.get_dummies(data['occupation'], prefix='occupation'))\n",
        "  data = data.drop(['occupation'], axis=1)\n",
        "\n",
        "  data = data.join(pd.get_dummies(data['relationship'], prefix='relationship'))\n",
        "  data = data.drop(['relationship'], axis=1)\n",
        "\n",
        "  data['race'] = data['race'].replace(dict.fromkeys(['Black', 'Asian-Pac-Islander', 'Amer-Indian-Eskimo', 'Other'], 0))\n",
        "  data['race'] = data['race'].replace(['White'], [1])\n",
        "\n",
        "  data['gender'] = data['gender'].replace(['Female','Male'], [0,1])\n",
        "\n",
        "  data['native-country'].loc[(data['native-country'] != 'United-States')]='ExPat'\n",
        "  data['native-country'] = data['native-country'].replace(['United-States', 'ExPat'], [0,1])\n",
        "\n",
        "  data['income'] = data['income'].replace(['<=50K', '>50K'], [0,1])\n",
        "\n",
        "  return data\n",
        "\n",
        "data = clean_data(data.copy())\n",
        "\n",
        "data.head()"
      ],
      "execution_count": 5,
      "outputs": [
        {
          "output_type": "stream",
          "name": "stderr",
          "text": [
            "/Library/Frameworks/Python.framework/Versions/3.7/lib/python3.7/site-packages/pandas/core/indexing.py:205: SettingWithCopyWarning: \nA value is trying to be set on a copy of a slice from a DataFrame\n\nSee the caveats in the documentation: http://pandas.pydata.org/pandas-docs/stable/user_guide/indexing.html#returning-a-view-versus-a-copy\n  self._setitem_with_indexer(indexer, value)\n"
          ]
        },
        {
          "output_type": "execute_result",
          "data": {
            "text/plain": [
              "   age  fnlwgt  educational-num  race  gender  capital-gain  capital-loss  \\\n",
              "0   25  226802                7     0       1             0             0   \n",
              "1   38   89814                9     1       1             0             0   \n",
              "2   28  336951               12     1       1             0             0   \n",
              "3   44  160323               10     0       1          7688             0   \n",
              "4   18  103497               10     1       0             0             0   \n",
              "\n",
              "   hours-per-week  native-country  income  ...  occupation_Protective-serv  \\\n",
              "0              40               0       0  ...                           0   \n",
              "1              50               0       0  ...                           0   \n",
              "2              40               0       1  ...                           1   \n",
              "3              40               0       1  ...                           0   \n",
              "4              30               0       0  ...                           0   \n",
              "\n",
              "   occupation_Sales  occupation_Tech-support  occupation_Transport-moving  \\\n",
              "0                 0                        0                            0   \n",
              "1                 0                        0                            0   \n",
              "2                 0                        0                            0   \n",
              "3                 0                        0                            0   \n",
              "4                 0                        0                            0   \n",
              "\n",
              "   relationship_Husband  relationship_Not-in-family  \\\n",
              "0                     0                           0   \n",
              "1                     1                           0   \n",
              "2                     1                           0   \n",
              "3                     1                           0   \n",
              "4                     0                           0   \n",
              "\n",
              "   relationship_Other-relative  relationship_Own-child  \\\n",
              "0                            0                       1   \n",
              "1                            0                       0   \n",
              "2                            0                       0   \n",
              "3                            0                       0   \n",
              "4                            0                       1   \n",
              "\n",
              "   relationship_Unmarried  relationship_Wife  \n",
              "0                       0                  0  \n",
              "1                       0                  0  \n",
              "2                       0                  0  \n",
              "3                       0                  0  \n",
              "4                       0                  0  \n",
              "\n",
              "[5 rows x 43 columns]"
            ],
            "text/html": "<div>\n<style scoped>\n    .dataframe tbody tr th:only-of-type {\n        vertical-align: middle;\n    }\n\n    .dataframe tbody tr th {\n        vertical-align: top;\n    }\n\n    .dataframe thead th {\n        text-align: right;\n    }\n</style>\n<table border=\"1\" class=\"dataframe\">\n  <thead>\n    <tr style=\"text-align: right;\">\n      <th></th>\n      <th>age</th>\n      <th>fnlwgt</th>\n      <th>educational-num</th>\n      <th>race</th>\n      <th>gender</th>\n      <th>capital-gain</th>\n      <th>capital-loss</th>\n      <th>hours-per-week</th>\n      <th>native-country</th>\n      <th>income</th>\n      <th>...</th>\n      <th>occupation_Protective-serv</th>\n      <th>occupation_Sales</th>\n      <th>occupation_Tech-support</th>\n      <th>occupation_Transport-moving</th>\n      <th>relationship_Husband</th>\n      <th>relationship_Not-in-family</th>\n      <th>relationship_Other-relative</th>\n      <th>relationship_Own-child</th>\n      <th>relationship_Unmarried</th>\n      <th>relationship_Wife</th>\n    </tr>\n  </thead>\n  <tbody>\n    <tr>\n      <th>0</th>\n      <td>25</td>\n      <td>226802</td>\n      <td>7</td>\n      <td>0</td>\n      <td>1</td>\n      <td>0</td>\n      <td>0</td>\n      <td>40</td>\n      <td>0</td>\n      <td>0</td>\n      <td>...</td>\n      <td>0</td>\n      <td>0</td>\n      <td>0</td>\n      <td>0</td>\n      <td>0</td>\n      <td>0</td>\n      <td>0</td>\n      <td>1</td>\n      <td>0</td>\n      <td>0</td>\n    </tr>\n    <tr>\n      <th>1</th>\n      <td>38</td>\n      <td>89814</td>\n      <td>9</td>\n      <td>1</td>\n      <td>1</td>\n      <td>0</td>\n      <td>0</td>\n      <td>50</td>\n      <td>0</td>\n      <td>0</td>\n      <td>...</td>\n      <td>0</td>\n      <td>0</td>\n      <td>0</td>\n      <td>0</td>\n      <td>1</td>\n      <td>0</td>\n      <td>0</td>\n      <td>0</td>\n      <td>0</td>\n      <td>0</td>\n    </tr>\n    <tr>\n      <th>2</th>\n      <td>28</td>\n      <td>336951</td>\n      <td>12</td>\n      <td>1</td>\n      <td>1</td>\n      <td>0</td>\n      <td>0</td>\n      <td>40</td>\n      <td>0</td>\n      <td>1</td>\n      <td>...</td>\n      <td>1</td>\n      <td>0</td>\n      <td>0</td>\n      <td>0</td>\n      <td>1</td>\n      <td>0</td>\n      <td>0</td>\n      <td>0</td>\n      <td>0</td>\n      <td>0</td>\n    </tr>\n    <tr>\n      <th>3</th>\n      <td>44</td>\n      <td>160323</td>\n      <td>10</td>\n      <td>0</td>\n      <td>1</td>\n      <td>7688</td>\n      <td>0</td>\n      <td>40</td>\n      <td>0</td>\n      <td>1</td>\n      <td>...</td>\n      <td>0</td>\n      <td>0</td>\n      <td>0</td>\n      <td>0</td>\n      <td>1</td>\n      <td>0</td>\n      <td>0</td>\n      <td>0</td>\n      <td>0</td>\n      <td>0</td>\n    </tr>\n    <tr>\n      <th>4</th>\n      <td>18</td>\n      <td>103497</td>\n      <td>10</td>\n      <td>1</td>\n      <td>0</td>\n      <td>0</td>\n      <td>0</td>\n      <td>30</td>\n      <td>0</td>\n      <td>0</td>\n      <td>...</td>\n      <td>0</td>\n      <td>0</td>\n      <td>0</td>\n      <td>0</td>\n      <td>0</td>\n      <td>0</td>\n      <td>0</td>\n      <td>1</td>\n      <td>0</td>\n      <td>0</td>\n    </tr>\n  </tbody>\n</table>\n<p>5 rows × 43 columns</p>\n</div>"
          },
          "metadata": {},
          "execution_count": 5
        }
      ]
    },
    {
      "cell_type": "code",
      "metadata": {
        "colab": {
          "base_uri": "https://localhost:8080/"
        },
        "id": "uIXkzcHUERgh",
        "outputId": "ff8e4104-0a46-4fae-bc9d-9a4747584cb6"
      },
      "source": [
        "data.corrwith(data['income'])"
      ],
      "execution_count": 6,
      "outputs": [
        {
          "output_type": "execute_result",
          "data": {
            "text/plain": [
              "age                             0.230369\n",
              "fnlwgt                         -0.006339\n",
              "educational-num                 0.332613\n",
              "race                            0.083710\n",
              "gender                          0.214628\n",
              "capital-gain                    0.223013\n",
              "capital-loss                    0.147554\n",
              "hours-per-week                  0.227687\n",
              "native-country                 -0.032551\n",
              "income                          1.000000\n",
              "workclass_Federal-gov           0.062112\n",
              "workclass_Local-gov             0.034576\n",
              "workclass_Never-worked         -0.008026\n",
              "workclass_Private              -0.075625\n",
              "workclass_Self-emp-inc          0.139596\n",
              "workclass_Self-emp-not-inc      0.027190\n",
              "workclass_State-gov             0.013619\n",
              "workclass_Without-pay          -0.007002\n",
              "marital_status_divorced        -0.128335\n",
              "marital_status_married          0.446292\n",
              "marital_status_separated       -0.083920\n",
              "marital_status_unmarried       -0.318782\n",
              "marital_status_widowed         -0.065050\n",
              "occupation_Adm-clerical        -0.086475\n",
              "occupation_Armed-Forces         0.003864\n",
              "occupation_Craft-repair        -0.011529\n",
              "occupation_Exec-managerial      0.210938\n",
              "occupation_Farming-fishing     -0.051213\n",
              "occupation_Handlers-cleaners   -0.085189\n",
              "occupation_Machine-op-inspct   -0.069936\n",
              "occupation_Other-service       -0.155254\n",
              "occupation_Priv-house-serv     -0.037526\n",
              "occupation_Prof-specialty       0.188793\n",
              "occupation_Protective-serv      0.024873\n",
              "occupation_Sales                0.023977\n",
              "occupation_Tech-support         0.020951\n",
              "occupation_Transport-moving    -0.018483\n",
              "relationship_Husband            0.403791\n",
              "relationship_Not-in-family     -0.190372\n",
              "relationship_Other-relative    -0.085601\n",
              "relationship_Own-child         -0.225691\n",
              "relationship_Unmarried         -0.143642\n",
              "relationship_Wife               0.120484\n",
              "dtype: float64"
            ]
          },
          "metadata": {},
          "execution_count": 6
        }
      ]
    },
    {
      "cell_type": "markdown",
      "metadata": {
        "id": "KPZw5KEq0x-A"
      },
      "source": [
        "**Defining Fairness Metrics**"
      ]
    },
    {
      "cell_type": "markdown",
      "metadata": {
        "id": "-rIvPF9F1iuP"
      },
      "source": [
        "*Disparate Impact*"
      ]
    },
    {
      "cell_type": "code",
      "metadata": {
        "id": "KFwf7mrDmKYQ"
      },
      "source": [
        "def disparate_impact_scorer(y, y_pred, X):\n",
        "\n",
        "  indexes = y.index.tolist()\n",
        "  X = X.loc[indexes,:]\n",
        "  y = y.tolist()\n",
        "  y_pred = y_pred.tolist()\n",
        "  \n",
        "  X['y_pred'] = y_pred\n",
        " \n",
        "\n",
        "  p1 = len(X[(X['y_pred']==1) & (X[\"gender\"] == 0)]) / len(X)\n",
        "  p2 = len(X[(X[\"gender\"] == 0)]) / len(X)\n",
        "  p3 = len(X[(X['y_pred']==1) & (X[\"gender\"] == 1)]) / len(X)\n",
        "  p4 = len(X[(X[\"gender\"] == 1)]) / len(X)\n",
        "\n",
        "  return min(((p1/p2)/(p3/p4)), ((p3/p4)/(p1/p2)))"
      ],
      "execution_count": 7,
      "outputs": []
    },
    {
      "cell_type": "markdown",
      "metadata": {
        "id": "lL_gjtfh1clY"
      },
      "source": [
        "*Zemel Fairness*"
      ]
    },
    {
      "cell_type": "code",
      "metadata": {
        "id": "kIzwF99B1M98"
      },
      "source": [
        "def zemel_fairness_scorer(y, y_pred, X):\n",
        "\n",
        "  indexes = y.index.tolist()\n",
        "  X = X.loc[indexes,:]\n",
        "  y = y.tolist()\n",
        "  y_pred = y_pred.tolist()\n",
        "\n",
        "  X['y'] = y\n",
        "  X['y_pred'] = y_pred\n",
        "\n",
        "\n",
        "  p1 = len(X[(X['y_pred']==1) & (X[\"gender\"] == 1)]) / len(X)\n",
        "  p2 = len(X[(X[\"gender\"] == 1)]) / len(X)\n",
        "\n",
        "  p3 = len(X[(X['y_pred']==1) & (X[\"gender\"] == 0)]) / len(X)\n",
        "  p4 = len(X[(X[\"gender\"] == 0)]) / len(X)\n",
        "\n",
        "\n",
        "  return abs((p1/p2) - (p3/p4))"
      ],
      "execution_count": 8,
      "outputs": []
    },
    {
      "cell_type": "code",
      "metadata": {
        "id": "1XKqyHLr1M5F"
      },
      "source": [
        "def BER_scorer(y, y_pred):\n",
        "\n",
        "  tn, fp, fn, tp = confusion_matrix(y_test, y_pred).ravel()\n",
        "\n",
        "  return (0.5 * ((fn/(fn + tp))+(fp/(fp + tn))))  "
      ],
      "execution_count": 9,
      "outputs": []
    },
    {
      "cell_type": "markdown",
      "metadata": {
        "id": "vWdtFJsY42sG"
      },
      "source": [
        "# Naive Implementation"
      ]
    },
    {
      "cell_type": "markdown",
      "metadata": {
        "id": "K7_woxmG67kr"
      },
      "source": [
        "**Randomly Splitting Dataset**"
      ]
    },
    {
      "cell_type": "code",
      "metadata": {
        "id": "xPCTi8QZ6nad"
      },
      "source": [
        "from sklearn.model_selection import train_test_split\n",
        "from sklearn.preprocessing import MinMaxScaler\n",
        "min_max_scaler = MinMaxScaler()\n",
        "data[data.columns.tolist()] = min_max_scaler.fit_transform(data[data.columns.tolist()])\n",
        "\n",
        "train_set, test_set = train_test_split(data, test_size=0.3, random_state=42, stratify=data['gender'])\n",
        "\n",
        "x_train = train_set.drop('income', axis=1)\n",
        "x_test = test_set.drop('income', axis=1)\n",
        "\n",
        "y_train = train_set['income']\n",
        "y_test = test_set['income']"
      ],
      "execution_count": 10,
      "outputs": []
    },
    {
      "cell_type": "markdown",
      "metadata": {
        "id": "7Pc2xpwA7BJZ"
      },
      "source": [
        "**Training Model**"
      ]
    },
    {
      "cell_type": "code",
      "metadata": {
        "colab": {
          "base_uri": "https://localhost:8080/"
        },
        "id": "z467EFD26oHy",
        "outputId": "e8864131-f967-4c02-e482-1c2325c08c36"
      },
      "source": [
        "from sklearn.ensemble import RandomForestClassifier\n",
        "\n",
        "from sklearn.model_selection import RandomizedSearchCV\n",
        "\n",
        "rfc = RandomForestClassifier(class_weight='balanced_subsample', random_state=42)\n",
        "rfc.fit(x_train, y_train)\n"
      ],
      "execution_count": 11,
      "outputs": [
        {
          "output_type": "execute_result",
          "data": {
            "text/plain": [
              "RandomForestClassifier(bootstrap=True, ccp_alpha=0.0,\n",
              "                       class_weight='balanced_subsample', criterion='gini',\n",
              "                       max_depth=None, max_features='auto', max_leaf_nodes=None,\n",
              "                       max_samples=None, min_impurity_decrease=0.0,\n",
              "                       min_impurity_split=None, min_samples_leaf=1,\n",
              "                       min_samples_split=2, min_weight_fraction_leaf=0.0,\n",
              "                       n_estimators=100, n_jobs=None, oob_score=False,\n",
              "                       random_state=42, verbose=0, warm_start=False)"
            ]
          },
          "metadata": {},
          "execution_count": 11
        }
      ]
    },
    {
      "cell_type": "markdown",
      "metadata": {
        "id": "3NM2CNJ67MXY"
      },
      "source": [
        "**Evaluating Model Performance**"
      ]
    },
    {
      "cell_type": "code",
      "metadata": {
        "colab": {
          "base_uri": "https://localhost:8080/"
        },
        "id": "0hX5T8Fz6vE8",
        "outputId": "34dbfbdb-9749-42e7-a3cd-426c60bc1401"
      },
      "source": [
        "from sklearn.metrics import confusion_matrix, accuracy_score, roc_auc_score\n",
        "\n",
        "y_pred = rfc.predict(x_test)\n",
        "\n",
        "print(f\"Test set accuracy = {accuracy_score(y_test, y_pred)}\")\n",
        "tn, fp, fn, tp = confusion_matrix(y_test, y_pred).ravel()\n",
        "\n",
        "print(f\"True pos {tp}\")\n",
        "print(f\"False pos {fp}\")\n",
        "print(f\"True neg {tn}\")\n",
        "print(f\"False neg {fn}\")\n",
        "print(f\"Sensitivity = {tp / (tp + fn)}\")\n",
        "print(f\"Specificity = {tn / (tn + fp)}\")\n",
        "print(f\"Area under ROC curve {roc_auc_score(y_test, y_pred)}\")\n",
        "print(f\"Balanced Error Rate: {BER_scorer(y_test, y_pred)}\")"
      ],
      "execution_count": 12,
      "outputs": [
        {
          "output_type": "stream",
          "name": "stdout",
          "text": [
            "Test set accuracy = 0.8571623558315703\nTrue pos 2186\nFalse pos 733\nTrue neg 10374\nFalse neg 1360\nSensitivity = 0.6164692611393119\nSpecificity = 0.9340055820653642\nArea under ROC curve 0.775237421602338\nBalanced Error Rate: 0.22476257839766195\n"
          ]
        }
      ]
    },
    {
      "cell_type": "code",
      "metadata": {
        "colab": {
          "base_uri": "https://localhost:8080/"
        },
        "id": "lpAIMzPJ6v_m",
        "outputId": "3d8e77db-66e4-4964-9742-17b250cf5577"
      },
      "source": [
        "print(f\"Disparate Impact: {disparate_impact_scorer(y_test, y_pred, x_test)}\")\n",
        "print(f\"Zemel Fairness: {zemel_fairness_scorer(y_test, y_pred, x_test)}\")"
      ],
      "execution_count": 13,
      "outputs": [
        {
          "output_type": "stream",
          "name": "stdout",
          "text": [
            "Disparate Impact: 0.3127719191806302\nZemel Fairness: 0.1772971271292034\n"
          ]
        }
      ]
    },
    {
      "cell_type": "markdown",
      "metadata": {
        "id": "kKAfRSAe3y62"
      },
      "source": [
        "# Representative Implementation"
      ]
    },
    {
      "cell_type": "markdown",
      "metadata": {
        "id": "wgP5cNi-4PfO"
      },
      "source": [
        "**Resetting Dataset**"
      ]
    },
    {
      "cell_type": "code",
      "metadata": {
        "colab": {
          "base_uri": "https://localhost:8080/"
        },
        "id": "T_rq1Iy939Bn",
        "outputId": "a0c3fc80-b08a-4340-c70c-289398da0736"
      },
      "source": [
        "data = load_data()\n",
        "data = clean_data(data.copy())"
      ],
      "execution_count": 14,
      "outputs": [
        {
          "output_type": "stream",
          "name": "stderr",
          "text": [
            "/Library/Frameworks/Python.framework/Versions/3.7/lib/python3.7/site-packages/pandas/core/indexing.py:205: SettingWithCopyWarning: \nA value is trying to be set on a copy of a slice from a DataFrame\n\nSee the caveats in the documentation: http://pandas.pydata.org/pandas-docs/stable/user_guide/indexing.html#returning-a-view-versus-a-copy\n  self._setitem_with_indexer(indexer, value)\n"
          ]
        }
      ]
    },
    {
      "cell_type": "markdown",
      "metadata": {
        "id": "IQzU9vnX0p6x"
      },
      "source": [
        "**Upsampling minority class**"
      ]
    },
    {
      "cell_type": "code",
      "metadata": {
        "colab": {
          "base_uri": "https://localhost:8080/"
        },
        "id": "0Y37sFB6ZoTf",
        "outputId": "0c32ac69-fdc1-4e3e-90b0-ebd0ddccb39d"
      },
      "source": [
        "print(data['gender'].value_counts())"
      ],
      "execution_count": 15,
      "outputs": [
        {
          "output_type": "stream",
          "name": "stdout",
          "text": [
            "1    32650\n0    16192\nName: gender, dtype: int64\n"
          ]
        }
      ]
    },
    {
      "cell_type": "code",
      "metadata": {
        "id": "UzpFjDC7ZlUp"
      },
      "source": [
        "from sklearn.utils import resample\n",
        "\n",
        "majority = data[(data['gender'] == 1)]\n",
        "minority = data[(data['gender'] == 0)]\n",
        "\n",
        "resampled_minority= resample(minority, replace=True, n_samples=((509 * len(majority)) //491), random_state=42)\n",
        "\n",
        "\n",
        "data = pd.concat([majority, resampled_minority])\n",
        "data = data.reset_index(drop=True)"
      ],
      "execution_count": 16,
      "outputs": []
    },
    {
      "cell_type": "code",
      "metadata": {
        "colab": {
          "base_uri": "https://localhost:8080/"
        },
        "id": "sny0UTdGbR5y",
        "outputId": "4958590f-e78a-4935-f37f-530c70b091a1"
      },
      "source": [
        "print(data['gender'].value_counts())"
      ],
      "execution_count": 17,
      "outputs": [
        {
          "output_type": "stream",
          "name": "stdout",
          "text": [
            "0    33846\n1    32650\nName: gender, dtype: int64\n"
          ]
        }
      ]
    },
    {
      "cell_type": "code",
      "metadata": {
        "colab": {
          "base_uri": "https://localhost:8080/"
        },
        "id": "5Qw-uvJM9Suf",
        "outputId": "fc7027d8-7124-414b-9cc0-0d5fcee31caa"
      },
      "source": [
        "data.corrwith(data['income'])"
      ],
      "execution_count": 18,
      "outputs": [
        {
          "output_type": "execute_result",
          "data": {
            "text/plain": [
              "age                             0.212376\n",
              "fnlwgt                         -0.001632\n",
              "educational-num                 0.315436\n",
              "race                            0.083104\n",
              "gender                          0.242309\n",
              "capital-gain                    0.230690\n",
              "capital-loss                    0.144558\n",
              "hours-per-week                  0.221948\n",
              "native-country                 -0.027890\n",
              "income                          1.000000\n",
              "workclass_Federal-gov           0.060450\n",
              "workclass_Local-gov             0.035645\n",
              "workclass_Never-worked         -0.006518\n",
              "workclass_Private              -0.076265\n",
              "workclass_Self-emp-inc          0.138752\n",
              "workclass_Self-emp-not-inc      0.036689\n",
              "workclass_State-gov             0.008921\n",
              "workclass_Without-pay          -0.008161\n",
              "marital_status_divorced        -0.132460\n",
              "marital_status_married          0.467119\n",
              "marital_status_separated       -0.085524\n",
              "marital_status_unmarried       -0.300064\n",
              "marital_status_widowed         -0.068389\n",
              "occupation_Adm-clerical        -0.092816\n",
              "occupation_Armed-Forces         0.004807\n",
              "occupation_Craft-repair         0.012787\n",
              "occupation_Exec-managerial      0.199904\n",
              "occupation_Farming-fishing     -0.035966\n",
              "occupation_Handlers-cleaners   -0.067254\n",
              "occupation_Machine-op-inspct   -0.061406\n",
              "occupation_Other-service       -0.154459\n",
              "occupation_Priv-house-serv     -0.041089\n",
              "occupation_Prof-specialty       0.181721\n",
              "occupation_Protective-serv      0.027163\n",
              "occupation_Sales                0.006767\n",
              "occupation_Tech-support         0.012250\n",
              "occupation_Transport-moving    -0.003871\n",
              "relationship_Husband            0.393483\n",
              "relationship_Not-in-family     -0.175871\n",
              "relationship_Other-relative    -0.078290\n",
              "relationship_Own-child         -0.212198\n",
              "relationship_Unmarried         -0.154444\n",
              "relationship_Wife               0.182252\n",
              "dtype: float64"
            ]
          },
          "metadata": {},
          "execution_count": 18
        }
      ]
    },
    {
      "cell_type": "markdown",
      "metadata": {
        "id": "OT9vMhXW2BYI"
      },
      "source": [
        "**Splitting Dataset using Stratifaction by Gender**"
      ]
    },
    {
      "cell_type": "code",
      "metadata": {
        "id": "uY18TedBI318"
      },
      "source": [
        "from sklearn.model_selection import train_test_split\n",
        "from sklearn.preprocessing import MinMaxScaler\n",
        "min_max_scaler = MinMaxScaler()\n",
        "data[data.columns.tolist()] = min_max_scaler.fit_transform(data[data.columns.tolist()])\n",
        "\n",
        "train_set, test_set = train_test_split(data, test_size=0.3, random_state=42, stratify=data['gender'])\n",
        "\n",
        "x_train = train_set.drop('income', axis=1)\n",
        "x_test = test_set.drop('income', axis=1)\n",
        "\n",
        "y_train = train_set['income']\n",
        "y_test = test_set['income']"
      ],
      "execution_count": 19,
      "outputs": []
    },
    {
      "cell_type": "markdown",
      "metadata": {
        "id": "iJQzoe312RHJ"
      },
      "source": [
        "**Training Model**"
      ]
    },
    {
      "cell_type": "code",
      "metadata": {
        "colab": {
          "base_uri": "https://localhost:8080/"
        },
        "id": "ocD7Cmk2I9B7",
        "outputId": "549e14f2-4b52-4b3f-f504-aacf578f6152"
      },
      "source": [
        "from sklearn.ensemble import RandomForestClassifier\n",
        "from sklearn.model_selection import RandomizedSearchCV\n",
        "\n",
        "rfc = RandomForestClassifier(class_weight='balanced_subsample', random_state=42)\n",
        "rfc.fit(x_train, y_train)"
      ],
      "execution_count": 20,
      "outputs": [
        {
          "output_type": "execute_result",
          "data": {
            "text/plain": [
              "RandomForestClassifier(bootstrap=True, ccp_alpha=0.0,\n",
              "                       class_weight='balanced_subsample', criterion='gini',\n",
              "                       max_depth=None, max_features='auto', max_leaf_nodes=None,\n",
              "                       max_samples=None, min_impurity_decrease=0.0,\n",
              "                       min_impurity_split=None, min_samples_leaf=1,\n",
              "                       min_samples_split=2, min_weight_fraction_leaf=0.0,\n",
              "                       n_estimators=100, n_jobs=None, oob_score=False,\n",
              "                       random_state=42, verbose=0, warm_start=False)"
            ]
          },
          "metadata": {},
          "execution_count": 20
        }
      ]
    },
    {
      "cell_type": "markdown",
      "metadata": {
        "id": "Rc76P_hl2W-_"
      },
      "source": [
        "**Evaluating Model Performance**"
      ]
    },
    {
      "cell_type": "code",
      "metadata": {
        "colab": {
          "base_uri": "https://localhost:8080/"
        },
        "id": "0stsG6pxJaMr",
        "outputId": "c3418618-ef3f-435c-d469-c1aa27fc5cec"
      },
      "source": [
        "from sklearn.metrics import confusion_matrix, accuracy_score, roc_auc_score\n",
        "\n",
        "y_pred = rfc.predict(x_test)\n",
        "\n",
        "print(f\"Test set accuracy = {accuracy_score(y_test, y_pred)}\")\n",
        "tn, fp, fn, tp = confusion_matrix(y_test, y_pred).ravel()\n",
        "\n",
        "print(f\"True pos {tp}\")\n",
        "print(f\"False pos {fp}\")\n",
        "print(f\"True neg {tn}\")\n",
        "print(f\"False neg {fn}\")\n",
        "print(f\"Sensitivity = {tp / (tp + fn)}\")\n",
        "print(f\"Specificity = {tn / (tn + fp)}\")\n",
        "print(f\"Area under ROC curve {roc_auc_score(y_test, y_pred)}\")\n",
        "print(f\"Balanced Error Rate: {BER_scorer(y_test, y_pred)}\")"
      ],
      "execution_count": 21,
      "outputs": [
        {
          "output_type": "stream",
          "name": "stdout",
          "text": [
            "Test set accuracy = 0.9042558524236803\nTrue pos 2830\nFalse pos 683\nTrue neg 15209\nFalse neg 1227\nSensitivity = 0.6975597732314518\nSpecificity = 0.9570224012081551\nArea under ROC curve 0.8272910872198034\nBalanced Error Rate: 0.17270891278019657\n"
          ]
        }
      ]
    },
    {
      "cell_type": "markdown",
      "metadata": {
        "id": "9PMoOFHQ2dxJ"
      },
      "source": [
        "**Evaluating Model Fairness**"
      ]
    },
    {
      "cell_type": "code",
      "metadata": {
        "colab": {
          "base_uri": "https://localhost:8080/"
        },
        "id": "TbRREhrmm9X4",
        "outputId": "2675ccd4-d043-47bf-a04f-729e48aa8f29"
      },
      "source": [
        "print(f\"Disparate Impact: {disparate_impact_scorer(y_test, y_pred, x_test)}\")\n",
        "print(f\"Zemel Fairness: {zemel_fairness_scorer(y_test, y_pred, x_test)}\")"
      ],
      "execution_count": 22,
      "outputs": [
        {
          "output_type": "stream",
          "name": "stdout",
          "text": [
            "Disparate Impact: 0.38386170914592554\nZemel Fairness: 0.1580761128041132\n"
          ]
        }
      ]
    },
    {
      "cell_type": "markdown",
      "metadata": {
        "id": "A2_d2r3Zbbn2"
      },
      "source": [
        "# Fair Implementation"
      ]
    },
    {
      "cell_type": "markdown",
      "metadata": {
        "id": "DRksEdeI8DP1"
      },
      "source": [
        "**Resetting Dataset**"
      ]
    },
    {
      "cell_type": "code",
      "metadata": {
        "colab": {
          "base_uri": "https://localhost:8080/"
        },
        "id": "Yik5urQf8Ag1",
        "outputId": "f8f6a910-8e4e-4452-bd15-84a54c660874"
      },
      "source": [
        "data = load_data()\n",
        "data = clean_data(data.copy())"
      ],
      "execution_count": 23,
      "outputs": [
        {
          "output_type": "stream",
          "name": "stderr",
          "text": [
            "/Library/Frameworks/Python.framework/Versions/3.7/lib/python3.7/site-packages/pandas/core/indexing.py:205: SettingWithCopyWarning: \nA value is trying to be set on a copy of a slice from a DataFrame\n\nSee the caveats in the documentation: http://pandas.pydata.org/pandas-docs/stable/user_guide/indexing.html#returning-a-view-versus-a-copy\n  self._setitem_with_indexer(indexer, value)\n"
          ]
        }
      ]
    },
    {
      "cell_type": "markdown",
      "metadata": {
        "id": "S7xuh-uE8Fm6"
      },
      "source": [
        "**Applying Kamiran and Calders *Classification with No Discrimination***"
      ]
    },
    {
      "cell_type": "code",
      "metadata": {
        "id": "GqZdaHuONVfc"
      },
      "source": [
        "train_probs = [max(l) for l in rfc.predict_proba(x_train)]\n",
        "\n",
        "# reconstructing training set and adding probabilities and class columns\n",
        "D = x_train.copy()\n",
        "D['income'] = y_train.copy()\n",
        "D['C'] = rfc.predict(x_train)\n",
        "D['probs'] = train_probs\n",
        "\n",
        "D = D.reset_index(drop=True)\n",
        "\n",
        "# create ordered list of candidates for promotion\n",
        "cp = D[(D['C'] == 0) & (D[\"gender\"] == 0)].copy()\n",
        "cp = cp.sort_values(by=['probs'], ascending=False)\n",
        "\n",
        "# create ordered list of candidates for demotion\n",
        "cd = D[(D['C'] == 1) & (D[\"gender\"] == 1)].copy()\n",
        "cd = cd.sort_values(by=['probs'], ascending=True)\n",
        "\n",
        "# calculate number of swaps to minimise discrimination\n",
        "def num_swaps(ji,jip, jj, jjp):\n",
        "\n",
        "  return int(round(((ji*jjp) - (jj*jip)) / (ji+jj)))\n",
        "\n",
        "n = num_swaps(len(D[(D[\"gender\"] == 0)]), len(D[(D['C'] == 1) & (D[\"gender\"] == 0)]), len(D[(D[\"gender\"] == 1)]), len(D[(D['C'] == 1) & (D[\"gender\"] == 1)]))\n",
        "\n",
        "# swap classes of first n elements in CP\n",
        "for idx, row in cp.head(n).iterrows():\n",
        "        cp.loc[idx,'income'] = 1 - cp.loc[idx,'income']\n",
        "\n",
        "# swap classes of first n elements in CD\n",
        "for idx, row in cd.head(n).iterrows():\n",
        "        cd.loc[idx,'income'] = 1 - cd.loc[idx,'income']\n",
        "\n",
        "# update training set\n",
        "D.iloc[cp.index,:]=cp\n",
        "D.iloc[cd.index,:]=cd\n",
        "\n",
        "# remove class and probability columns\n",
        "D = D.drop(['C', 'probs'], axis = 1)"
      ],
      "execution_count": 24,
      "outputs": []
    },
    {
      "cell_type": "code",
      "metadata": {
        "colab": {
          "base_uri": "https://localhost:8080/"
        },
        "id": "UTGgCFjs-2-r",
        "outputId": "3ce40d5d-bae5-4aa9-827d-cc62d73ce94a"
      },
      "source": [
        "D.corrwith(D['income'])"
      ],
      "execution_count": 25,
      "outputs": [
        {
          "output_type": "execute_result",
          "data": {
            "text/plain": [
              "age                             0.138521\n",
              "fnlwgt                         -0.004325\n",
              "educational-num                 0.285896\n",
              "race                            0.045079\n",
              "gender                          0.000288\n",
              "capital-gain                    0.229198\n",
              "capital-loss                    0.136194\n",
              "hours-per-week                  0.121668\n",
              "native-country                 -0.020469\n",
              "workclass_Federal-gov           0.049465\n",
              "workclass_Local-gov             0.034527\n",
              "workclass_Never-worked         -0.006653\n",
              "workclass_Private              -0.051710\n",
              "workclass_Self-emp-inc          0.107601\n",
              "workclass_Self-emp-not-inc     -0.012166\n",
              "workclass_State-gov             0.016582\n",
              "workclass_Without-pay          -0.008274\n",
              "marital_status_divorced        -0.072510\n",
              "marital_status_married          0.276352\n",
              "marital_status_separated       -0.050585\n",
              "marital_status_unmarried       -0.188151\n",
              "marital_status_widowed         -0.027005\n",
              "occupation_Adm-clerical        -0.019641\n",
              "occupation_Armed-Forces        -0.002592\n",
              "occupation_Craft-repair        -0.069004\n",
              "occupation_Exec-managerial      0.177096\n",
              "occupation_Farming-fishing     -0.058050\n",
              "occupation_Handlers-cleaners   -0.074801\n",
              "occupation_Machine-op-inspct   -0.064725\n",
              "occupation_Other-service       -0.088927\n",
              "occupation_Priv-house-serv     -0.017199\n",
              "occupation_Prof-specialty       0.166627\n",
              "occupation_Protective-serv      0.000293\n",
              "occupation_Sales                0.004571\n",
              "occupation_Tech-support         0.013346\n",
              "occupation_Transport-moving    -0.056149\n",
              "relationship_Husband            0.179637\n",
              "relationship_Not-in-family     -0.121845\n",
              "relationship_Other-relative    -0.049441\n",
              "relationship_Own-child         -0.127003\n",
              "relationship_Unmarried         -0.066605\n",
              "relationship_Wife               0.202948\n",
              "income                          1.000000\n",
              "dtype: float64"
            ]
          },
          "metadata": {},
          "execution_count": 25
        }
      ]
    },
    {
      "cell_type": "code",
      "metadata": {
        "colab": {
          "base_uri": "https://localhost:8080/"
        },
        "id": "ot6JLYVy_aEC",
        "outputId": "db482267-ce13-440f-b0cc-82af751d1dd9"
      },
      "source": [
        "print(f\"male {len(D[(D['gender'] == 1) & (D['income'] == 1)]) / len(D[(D['gender'] == 1)])}\")\n",
        "print(f\"female {len(D[(D['gender'] == 0) & (D['income'] == 1)]) / len(D[(D['gender'] == 0)])}\")"
      ],
      "execution_count": 26,
      "outputs": [
        {
          "output_type": "stream",
          "name": "stdout",
          "text": [
            "male 0.20490045941807045\nfemale 0.20466824244470708\n"
          ]
        }
      ]
    },
    {
      "cell_type": "markdown",
      "metadata": {
        "id": "zVeCGguk878w"
      },
      "source": [
        "**Splitting Dataset using Stratifaction by Gender**"
      ]
    },
    {
      "cell_type": "code",
      "metadata": {
        "id": "5Fc-olVubWza"
      },
      "source": [
        "from sklearn.model_selection import train_test_split\n",
        "from sklearn.preprocessing import MinMaxScaler\n",
        "min_max_scaler = MinMaxScaler()\n",
        "D[D.columns.tolist()] = min_max_scaler.fit_transform(D[D.columns.tolist()])\n",
        "\n",
        "train_set = D\n",
        "\n",
        "x_train = train_set.drop('income', axis=1)\n",
        "\n",
        "y_train = train_set['income']"
      ],
      "execution_count": 27,
      "outputs": []
    },
    {
      "cell_type": "markdown",
      "metadata": {
        "id": "j-r5wXox9JlP"
      },
      "source": [
        "**Training Model**"
      ]
    },
    {
      "cell_type": "code",
      "metadata": {
        "colab": {
          "base_uri": "https://localhost:8080/"
        },
        "id": "UUY06JrMbibU",
        "outputId": "9e4fca62-2861-4537-caa0-d2d8a51a64fa"
      },
      "source": [
        "from sklearn.ensemble import RandomForestClassifier\n",
        "from sklearn.model_selection import RandomizedSearchCV\n",
        "\n",
        "rfc = RandomForestClassifier(class_weight='balanced_subsample', random_state=42)\n",
        "rfc.fit(x_train, y_train)"
      ],
      "execution_count": 28,
      "outputs": [
        {
          "output_type": "execute_result",
          "data": {
            "text/plain": [
              "RandomForestClassifier(bootstrap=True, ccp_alpha=0.0,\n",
              "                       class_weight='balanced_subsample', criterion='gini',\n",
              "                       max_depth=None, max_features='auto', max_leaf_nodes=None,\n",
              "                       max_samples=None, min_impurity_decrease=0.0,\n",
              "                       min_impurity_split=None, min_samples_leaf=1,\n",
              "                       min_samples_split=2, min_weight_fraction_leaf=0.0,\n",
              "                       n_estimators=100, n_jobs=None, oob_score=False,\n",
              "                       random_state=42, verbose=0, warm_start=False)"
            ]
          },
          "metadata": {},
          "execution_count": 28
        }
      ]
    },
    {
      "cell_type": "markdown",
      "metadata": {
        "id": "5KcggcMg9Mb9"
      },
      "source": [
        "**Evaluating Model Performance**"
      ]
    },
    {
      "cell_type": "code",
      "metadata": {
        "colab": {
          "base_uri": "https://localhost:8080/"
        },
        "id": "LaCZF4Fybmui",
        "outputId": "f47332b0-d848-4377-8a5d-9703ee3bc682"
      },
      "source": [
        "from sklearn.metrics import confusion_matrix, accuracy_score, roc_auc_score\n",
        "\n",
        "y_pred = rfc.predict(x_test)\n",
        "\n",
        "print(f\"Test set accuracy = {accuracy_score(y_test, y_pred)}\")\n",
        "tn, fp, fn, tp = confusion_matrix(y_test, y_pred).ravel()\n",
        "\n",
        "print(f\"True pos {tp}\")\n",
        "print(f\"False pos {fp}\")\n",
        "print(f\"True neg {tn}\")\n",
        "print(f\"False neg {fn}\")\n",
        "print(f\"Sensitivity = {tp / (tp + fn)}\")\n",
        "print(f\"Specificity = {tn / (tn + fp)}\")\n",
        "print(f\"Area under ROC curve {roc_auc_score(y_test, y_pred)}\")\n",
        "print(f\"Balanced Error Rate: {BER_scorer(y_test, y_pred)}\")"
      ],
      "execution_count": 29,
      "outputs": [
        {
          "output_type": "stream",
          "name": "stdout",
          "text": [
            "Test set accuracy = 0.8622988620983508\nTrue pos 2525\nFalse pos 1215\nTrue neg 14677\nFalse neg 1532\nSensitivity = 0.6223810697559773\nSpecificity = 0.9235464384596023\nArea under ROC curve 0.7729637541077897\nBalanced Error Rate: 0.22703624589221016\n"
          ]
        }
      ]
    },
    {
      "cell_type": "markdown",
      "metadata": {
        "id": "7lV0cgmt9RZq"
      },
      "source": [
        "**Evaluating Model Fairness**"
      ]
    },
    {
      "cell_type": "code",
      "metadata": {
        "colab": {
          "base_uri": "https://localhost:8080/"
        },
        "id": "CoKtkkN5ndTk",
        "outputId": "959bb3c8-fe9c-404f-e0ff-fdaf25331158"
      },
      "source": [
        "print(f\"Disparate Impact: {disparate_impact_scorer(y_test, y_pred, x_test)}\")\n",
        "print(f\"Zemel Fairness: {zemel_fairness_scorer(y_test, y_pred, x_test)}\")"
      ],
      "execution_count": 30,
      "outputs": [
        {
          "output_type": "stream",
          "name": "stdout",
          "text": [
            "Disparate Impact: 0.9212783355870043\nZemel Fairness: 0.015374634407561066\n"
          ]
        }
      ]
    }
  ]
}